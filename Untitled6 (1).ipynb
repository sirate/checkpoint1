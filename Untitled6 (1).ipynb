{
 "cells": [
  {
   "cell_type": "code",
   "execution_count": 4,
   "id": "0b2561b3",
   "metadata": {},
   "outputs": [
    {
     "name": "stdout",
     "output_type": "stream",
     "text": [
      "(1, 2, 3)\n"
     ]
    }
   ],
   "source": [
    "class Point3D(object):\n",
    "    def __init__(self, x, y, z):\n",
    "        self.x = x\n",
    "        self.y = y\n",
    "        self.z = z\n",
    "    def __repr__(self):\n",
    "        return \"(%d, %d, %d)\" % (self.x, self.y, self.z)\n",
    "my_point = Point3D(1,2,3)\n",
    "print(my_point)"
   ]
  },
  {
   "cell_type": "code",
   "execution_count": 18,
   "id": "838ce504",
   "metadata": {},
   "outputs": [
    {
     "name": "stdout",
     "output_type": "stream",
     "text": [
      "enter your deposit amount5000\n",
      "enter the amount to withdraw4000\n",
      "your new balance is 1000\n"
     ]
    }
   ],
   "source": [
    "class account:\n",
    "    balance = 0\n",
    "    def _init_(self,balance):\n",
    "        self.balance=balance\n",
    "    def deposit(self):\n",
    "            amount= int(input(\"enter your deposit amount\"))\n",
    "            self.balance+=int(amount)\n",
    "            return \"your balance is %d\" % (self.balance)\n",
    "    def withdraw(self):\n",
    "            amount= int(input(\"enter the amount to withdraw\"))\n",
    "            if amount<= self.balance:\n",
    "                self.balance-=int(amount)\n",
    "                print(\"your new balance is %d\" %self.balance)\n",
    "            else:\n",
    "                print(\"no sufficient balance\")\n",
    "balance= account()\n",
    "balance.deposit()\n",
    "balance.withdraw()"
   ]
  },
  {
   "cell_type": "code",
   "execution_count": 10,
   "id": "2156cdd2",
   "metadata": {},
   "outputs": [
    {
     "data": {
      "text/plain": [
       "950"
      ]
     },
     "execution_count": 10,
     "metadata": {},
     "output_type": "execute_result"
    }
   ],
   "source": [
    "balance = 0\n",
    "\n",
    "def deposit(amount):\n",
    "    global balance\n",
    "    balance += amount\n",
    "    return balance\n",
    "\n",
    "def withdraw(amount):\n",
    "    global balance\n",
    "    balance -= amount\n",
    "    return balance\n",
    "\n",
    "deposit(5000)\n",
    "withdraw(100)\n",
    "deposit(50)\n",
    "withdraw(4000)"
   ]
  },
  {
   "cell_type": "code",
   "execution_count": null,
   "id": "d42aef85",
   "metadata": {},
   "outputs": [],
   "source": []
  }
 ],
 "metadata": {
  "kernelspec": {
   "display_name": "Python 3",
   "language": "python",
   "name": "python3"
  },
  "language_info": {
   "codemirror_mode": {
    "name": "ipython",
    "version": 3
   },
   "file_extension": ".py",
   "mimetype": "text/x-python",
   "name": "python",
   "nbconvert_exporter": "python",
   "pygments_lexer": "ipython3",
   "version": "3.8.8"
  }
 },
 "nbformat": 4,
 "nbformat_minor": 5
}
